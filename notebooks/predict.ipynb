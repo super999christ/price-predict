{
 "cells": [
  {
   "cell_type": "code",
   "execution_count": null,
   "id": "2f17db82",
   "metadata": {},
   "outputs": [],
   "source": []
  },
  {
   "cell_type": "code",
   "execution_count": 41,
   "id": "24aa9873",
   "metadata": {},
   "outputs": [
    {
     "data": {
      "text/plain": [
       "array([301332.12], dtype=float32)"
      ]
     },
     "execution_count": 41,
     "metadata": {},
     "output_type": "execute_result"
    }
   ],
   "source": [
    "import joblib\n",
    "from pathlib import Path\n",
    "import pandas as pd\n",
    "import numpy as np\n",
    "\n",
    "\n",
    "model = joblib.load(\"../models/model.pkl\")\n",
    "\n",
    "new_data = {\n",
    "    'region': 'Brussels',\n",
    "    'province': 'Brussels',\n",
    "    'district': 'Brussels',\n",
    "    'netHabitableSurface': 120.0,\n",
    "    'bedroomCount': 5,\n",
    "    'hasDoubleGlazing': 0,\n",
    "    'condition': 'TO_RENOVATE',\n",
    "    'hasSwimmingPool': 0,\n",
    "    'bathroomCount': 2,\n",
    "    'showerRoomCount': 1,\n",
    "    'parkingCountIndoor': 2,\n",
    "    'hasGarden': 2,\n",
    "    'gardenSurface': 300.0,\n",
    "    'hasTerrace': 1,\n",
    "    'hasLift': 0,\n",
    "    'kitchen': 'SUPER_EQUIPPED',\n",
    "    'latitude': 50.852637,\n",
    "    'longitude': 4.314282,\n",
    "}\n",
    "\n",
    "\n",
    "X_new = pd.DataFrame([new_data])\n",
    "\n",
    "\n",
    "model.predict(X_new)\n"
   ]
  }
 ],
 "metadata": {
  "kernelspec": {
   "display_name": "Python 3 (ipykernel)",
   "language": "python",
   "name": "python3"
  },
  "language_info": {
   "codemirror_mode": {
    "name": "ipython",
    "version": 3
   },
   "file_extension": ".py",
   "mimetype": "text/x-python",
   "name": "python",
   "nbconvert_exporter": "python",
   "pygments_lexer": "ipython3",
   "version": "3.11.3"
  }
 },
 "nbformat": 4,
 "nbformat_minor": 5
}
